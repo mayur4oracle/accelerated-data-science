{
 "cells": [
  {
   "cell_type": "markdown",
   "id": "1556d41e",
   "metadata": {},
   "source": [
    "# B2C Automated Classification Accelerator "
   ]
  },
  {
   "cell_type": "markdown",
   "id": "849207e3",
   "metadata": {},
   "source": [
    "## Step 1: Create Conda Enviorment \n",
    "It is needed to create an enviorment where all the required python dependencies are available.\n",
    "\n",
    "<i>If conda enviorment already created then assign that path in</i> **CONDA_ENV_PATH** <i>env variable</i>"
   ]
  },
  {
   "cell_type": "markdown",
   "id": "ed8f2a4b",
   "metadata": {},
   "source": [
    "#### 1. Setup conda enviornment"
   ]
  },
  {
   "cell_type": "code",
   "execution_count": null,
   "id": "4150461b",
   "metadata": {},
   "outputs": [],
   "source": [
    "import shutil\n",
    "CONDA_ENV_NAME = \"b2c_env\""
   ]
  },
  {
   "cell_type": "code",
   "execution_count": null,
   "id": "c000e2eb",
   "metadata": {},
   "outputs": [],
   "source": [
    "!rm -rf ./conda"
   ]
  },
  {
   "cell_type": "code",
   "execution_count": null,
   "id": "c786b70b",
   "metadata": {},
   "outputs": [],
   "source": [
    "!odsc conda create --file ./environment.yml --name {CONDA_ENV_NAME} --slug {CONDA_ENV_NAME}_slug"
   ]
  },
  {
   "cell_type": "code",
   "execution_count": null,
   "id": "d83e190a",
   "metadata": {},
   "outputs": [],
   "source": [
    "!odsc conda init -b \"$BUCKET_NAME\" -n \"$NAMESPACE\" --authentication resource_principal"
   ]
  }
 ],
 "metadata": {
  "kernelspec": {
   "display_name": "Python [conda env:b2c_env_slug]",
   "language": "python",
   "name": "conda-env-b2c_env_slug-py"
  },
  "language_info": {
   "codemirror_mode": {
    "name": "ipython",
    "version": 3
   },
   "file_extension": ".py",
   "mimetype": "text/x-python",
   "name": "python",
   "nbconvert_exporter": "python",
   "pygments_lexer": "ipython3",
   "version": "3.8.12"
  }
 },
 "nbformat": 4,
 "nbformat_minor": 5
}
